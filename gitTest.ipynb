{
 "cells": [
  {
   "cell_type": "markdown",
   "metadata": {},
   "source": [
    "```bash\n",
    "git : 버전관리 소프트웨어\n",
    "gihub:  저장소"
   ]
  },
  {
   "cell_type": "markdown",
   "metadata": {},
   "source": [
    "### git 다운로드\n",
    "\n",
    "```bash\n",
    "구글: git windows 검색후\n",
    "https://git-scm.com/downloads/win\n",
    "\n",
    "맥:\n",
    "1.homebrew 설치\n",
    "2.brew install git\n"
   ]
  },
  {
   "cell_type": "markdown",
   "metadata": {},
   "source": [
    "1. power shell 실행\n",
    "이메일과 이름등록( git 유저 이름셋팅)\n",
    "2. git config --global user.email \"홍길동@naver.com\"\n",
    "3. git config --global user.name \"홍길동\"\n",
    "\n",
    "## 파일에 대한 버전관리 시작작\n",
    "4. git init ( 현재 폴더에서 깃사용 시작작)"
   ]
  },
  {
   "cell_type": "markdown",
   "metadata": {},
   "source": [
    "```bash\n",
    "\n",
    "이 파일 현재상태를 기록\n",
    "\n",
    "git add 파일명 \n",
    "\n",
    "git commit -m '첫파일'\n"
   ]
  },
  {
   "cell_type": "markdown",
   "metadata": {},
   "source": [
    "```bash\n",
    "git add app.txt\n",
    "git commit -m '첫파일'\n",
    "\n",
    "git add app.txt\n",
    "git commit -m '수정함'"
   ]
  },
  {
   "cell_type": "markdown",
   "metadata": {},
   "source": [
    " ![링크 텍스트](https://codingapple-cdn.b-cdn.net/wp-content/uploads/2022/06/%EA%B7%B8%EB%A6%BC1.png)"
   ]
  },
  {
   "cell_type": "markdown",
   "metadata": {},
   "source": [
    "```bash\n",
    "repository는 commit된 파일의 버전들을 모아놓는 곳.\n",
    "repository의 숨겨져 있는 .git 폴더에 있음"
   ]
  },
  {
   "cell_type": "markdown",
   "metadata": {},
   "source": [
    "\n",
    "```bash\n",
    "스테이징\n",
    "=================\n",
    "git add app.txt app2.txt\n",
    "또는\n",
    "git add .   #모든파일 스테이징"
   ]
  },
  {
   "cell_type": "markdown",
   "metadata": {},
   "source": [
    "### 스테이징 상태 확인\n",
    "\n",
    "git status"
   ]
  },
  {
   "cell_type": "markdown",
   "metadata": {},
   "source": [
    "### commit 내역 확인\n",
    "git log --all --oneline"
   ]
  },
  {
   "cell_type": "markdown",
   "metadata": {},
   "source": [
    "#### vscode git 이용\n",
    "\n",
    "vs 코드의 git 아이콘을 클릭후 확인 가능\n",
    "\n",
    "app.txt 수정후 \n",
    "변경사항에 확인 가능\n",
    "+ 버튼 클릭시 git add 실행"
   ]
  }
 ],
 "metadata": {
  "language_info": {
   "name": "python"
  }
 },
 "nbformat": 4,
 "nbformat_minor": 2
}
